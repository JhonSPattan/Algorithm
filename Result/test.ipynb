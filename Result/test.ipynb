{
 "cells": [
  {
   "cell_type": "code",
   "execution_count": 2,
   "metadata": {},
   "outputs": [
    {
     "name": "stdout",
     "output_type": "stream",
     "text": [
      "x =  6.0  makes y =  46.0\n"
     ]
    }
   ],
   "source": [
    "#LAB 5-2\n",
    "x = float(input('Enter x: '))\n",
    "if(x < 0):\n",
    "    print('x = ',x,' makes y = ',6)\n",
    "elif(x>= 0 and x< 15):\n",
    "    print('x = ',x,' makes y = ',6*x+10)\n",
    "elif(x>=15 and x < 35):\n",
    "    print('x = ',x,' makes y = ',3*pow(x,2)-5)\n",
    "else:\n",
    "    print('x = ',x,' makes y = ',pow(x,3)+5)"
   ]
  },
  {
   "cell_type": "code",
   "execution_count": null,
   "metadata": {},
   "outputs": [],
   "source": [
    "#LAB 5-3\n",
    "m,n = input('Enter m and n: ').split()\n",
    "m = int(m)\n",
    "n = int(n)\n",
    "if(n != 0):\n",
    "    if(m%n == 0):\n",
    "        print(m,' is multiple of ',n)\n",
    "    else:\n",
    "        print(m,' is not multiple of ',n)\n",
    "else:\n",
    "    print('Error: n is negative or zero.')"
   ]
  },
  {
   "cell_type": "code",
   "execution_count": null,
   "metadata": {},
   "outputs": [],
   "source": [
    "#LAB 5-4\n",
    "x,y = input('Enter coordinates(x,y): ').split()\n",
    "x = int(x)\n",
    "y = int(y)\n",
    "\n",
    "if(x > 0 and y> 0):\n",
    "    print('coordinate(',x,',',y,') = Q1')\n",
    "elif(x < 0 and y > 0):\n",
    "    print('coordinate(',x,',',y,') = Q2')\n",
    "elif(x<0 and y < 0):\n",
    "    print('coordinate(',x,',',y,') = Q3')\n",
    "elif(x>0 and y <0):\n",
    "    print('coordinate(',x,',',y,') = Q4')\n",
    "elif(x == 0 and y == 0):\n",
    "    print('coordinate(',x,',',y,') origin')\n",
    "elif(x == 0 and y != 0):\n",
    "    print('coordinate(',x,',',y,') = y-intercept')\n",
    "else:\n",
    "    print('coordinate(',x,',',y,') = x-intercept')"
   ]
  },
  {
   "cell_type": "code",
   "execution_count": null,
   "metadata": {},
   "outputs": [],
   "source": [
    "#LAB 5-5\n",
    "status = input('Enter status: ')\n",
    "roomarea = float(input('Room area: '))\n",
    "salary = float(input('Salary: '))\n",
    "rent = float(input('rent: '))\n",
    "\n",
    "discount = 0\n",
    "\n",
    "if roomarea < 30:\n",
    "    if salary < 900:\n",
    "        discount = 0.5*rent\n",
    "    elif salary >= 900 and salary <= 1500:\n",
    "        discount = 0.4*rent\n",
    "    else:\n",
    "        discount = 0.2*rent\n",
    "else:\n",
    "    if salary <= 1500:\n",
    "        discount = 0.4*rent\n",
    "    else:\n",
    "        discount = 0.3*rent\n",
    "\n",
    "if status == 'M':\n",
    "    discount = discount*1.2\n",
    "\n",
    "print('Total rent: ',(rent-discount))"
   ]
  }
 ],
 "metadata": {
  "kernelspec": {
   "display_name": "Python 3.10.5 64-bit",
   "language": "python",
   "name": "python3"
  },
  "language_info": {
   "codemirror_mode": {
    "name": "ipython",
    "version": 3
   },
   "file_extension": ".py",
   "mimetype": "text/x-python",
   "name": "python",
   "nbconvert_exporter": "python",
   "pygments_lexer": "ipython3",
   "version": "3.10.5"
  },
  "orig_nbformat": 4,
  "vscode": {
   "interpreter": {
    "hash": "43dca14d2b4a044ba4bacc4278e553dbc37884e4099f61bd3f343eff0761f0c1"
   }
  }
 },
 "nbformat": 4,
 "nbformat_minor": 2
}
