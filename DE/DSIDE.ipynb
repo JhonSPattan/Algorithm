{
 "cells": [
  {
   "cell_type": "markdown",
   "metadata": {},
   "source": [
    "CALCULATION VALUE"
   ]
  },
  {
   "cell_type": "code",
   "execution_count": 12,
   "metadata": {},
   "outputs": [],
   "source": [
    "import numpy as np\n",
    "import csv\n",
    "import random\n",
    "from datetime import datetime\n",
    "import matplotlib.pyplot as plt\n",
    "import sys\n",
    "sys.path.insert(0,'C:/Users/patip/Documents/Python/Algorithm')\n",
    "from Benchmark.functionbenchmark import Salomon as myfunc"
   ]
  },
  {
   "cell_type": "code",
   "execution_count": 13,
   "metadata": {},
   "outputs": [],
   "source": [
    "#function_type = 'UnimodalFuntion'\n",
    "function_type = 'MultimodalFunction'\n",
    "functionname = 'Salomon'\n",
    "dimention = 30\n",
    "populationsize = 500\n",
    "lowerbound = -100\n",
    "upperblound = 100\n",
    "round = 2000 #dimention*1000\n",
    "minimized_value = 0\n",
    "maximized_value = 0\n",
    "minuted = 0\n",
    "minimized_value_round = np.zeros(round)\n",
    "minimized_vector = np.zeros(dimention)\n",
    "minimized_value_keep = np.zeros((round,3))\n",
    "value_analysis = np.zeros((round,3))\n",
    "time_perround = np.zeros((10,1))\n",
    "value = np.zeros(populationsize)\n",
    "population= np.zeros((populationsize,dimention))\n",
    "random_number = random.uniform(0,1)\n",
    "min_round = 0\n",
    "\"\"\" fitness_max = 0\n",
    "fitness_target = 0\n",
    "fitness_min = 0\n",
    "fitness_mean = 0\n",
    "generation = 0 \"\"\"\n",
    "\n",
    "for i in range(populationsize):\n",
    "    dummy = np.random.uniform(low=lowerbound,high=upperblound+1,size=dimention)\n",
    "    population[i:] = dummy"
   ]
  },
  {
   "cell_type": "code",
   "execution_count": 14,
   "metadata": {},
   "outputs": [],
   "source": [
    "\n",
    "def build_trial(r_vector1:np.array,r_vector2:np.array,r_vector3:np.array,target:np.array,fitness_max:float,fitness_mean:float,fitness_min:float,fitness_target:float,generation:float)->np.array:\n",
    "    dummy_vector = np.random.uniform(low=0,high=1,size=dimention)\n",
    "    \"\"\" Calculation F, alpha and CR rate \"\"\"\n",
    "    random_number = random.uniform(0,1)\n",
    "    alpha = 1-pow(random_number,pow((1-generation/round),2))\n",
    "    #alpha = 1-random_number**((1-(generation/round))**2)\n",
    "    if(fitness_mean != 0):\n",
    "        scale_factor = (fitness_max-fitness_target)/fitness_mean\n",
    "        cr_rate = (fitness_target-fitness_min)/fitness_mean\n",
    "        mutant_vector = alpha*r_vector1+scale_factor*(r_vector2-r_vector3)\n",
    "        trial = np.zeros(dimention)\n",
    "        for i in range(dimention):\n",
    "            if dummy_vector[i] > cr_rate:\n",
    "                trial[i] = target[i]\n",
    "            else:\n",
    "                trial[i] = mutant_vector[i]\n",
    "        return trial\n",
    "    else:\n",
    "        mutant_vector = alpha*r_vector1\n",
    "        trial = np.zeros(dimention)\n",
    "        for i in range(dimention):\n",
    "            if dummy_vector[i] > 0:\n",
    "                trial[i] = target[i]\n",
    "            else:\n",
    "                trial[i] = mutant_vector[i]\n",
    "        return trial\n",
    "\n",
    "\n",
    "\n",
    "def eveluate(fun,arg:np.array)->float:\n",
    "    return fun(arg)\n",
    "\n",
    "def selection(trial_vector:np.array,target_vector:np.array,fun)->np.array:\n",
    "    trial_value = eveluate(fun,trial_vector)\n",
    "    target_value = eveluate(fun,target_vector)\n",
    "    \"\"\"  print(\"Value\")\n",
    "    print(trial_value)\n",
    "    print(target_value) \"\"\"\n",
    "    if trial_value <= target_value:\n",
    "        \"\"\"  print(\"Select new vector\")\n",
    "        print(trial_value) \"\"\"\n",
    "        return trial_vector\n",
    "    else:\n",
    "        \"\"\"  print(\"Select original vector\")\n",
    "        print(target_value) \"\"\"\n",
    "        return target_vector"
   ]
  },
  {
   "cell_type": "code",
   "execution_count": 15,
   "metadata": {},
   "outputs": [
    {
     "data": {
      "application/vnd.jupyter.widget-view+json": {
       "model_id": "092e72667e944beea6507ad14b2d7d46",
       "version_major": 2,
       "version_minor": 0
      },
      "text/plain": [
       "  0%|          | 0/10 [00:00<?, ?it/s]"
      ]
     },
     "metadata": {},
     "output_type": "display_data"
    },
    {
     "data": {
      "application/vnd.jupyter.widget-view+json": {
       "model_id": "dd06586d12ec442880d4e75d56019ae7",
       "version_major": 2,
       "version_minor": 0
      },
      "text/plain": [
       "  0%|          | 0/10 [00:00<?, ?it/s]"
      ]
     },
     "metadata": {},
     "output_type": "display_data"
    },
    {
     "data": {
      "application/vnd.jupyter.widget-view+json": {
       "model_id": "f74ac751e0a743d3b0091b55f95af5c0",
       "version_major": 2,
       "version_minor": 0
      },
      "text/plain": [
       "  0%|          | 0/10 [00:00<?, ?it/s]"
      ]
     },
     "metadata": {},
     "output_type": "display_data"
    },
    {
     "data": {
      "application/vnd.jupyter.widget-view+json": {
       "model_id": "cea7bf44ea4b4dfeabb466b568246c0f",
       "version_major": 2,
       "version_minor": 0
      },
      "text/plain": [
       "  0%|          | 0/10 [00:00<?, ?it/s]"
      ]
     },
     "metadata": {},
     "output_type": "display_data"
    },
    {
     "data": {
      "application/vnd.jupyter.widget-view+json": {
       "model_id": "413372cfeb4b4074a4f27e77cf4499eb",
       "version_major": 2,
       "version_minor": 0
      },
      "text/plain": [
       "  0%|          | 0/10 [00:00<?, ?it/s]"
      ]
     },
     "metadata": {},
     "output_type": "display_data"
    },
    {
     "data": {
      "application/vnd.jupyter.widget-view+json": {
       "model_id": "8be60b412495411fb4beee9f9138cdaf",
       "version_major": 2,
       "version_minor": 0
      },
      "text/plain": [
       "  0%|          | 0/10 [00:00<?, ?it/s]"
      ]
     },
     "metadata": {},
     "output_type": "display_data"
    },
    {
     "data": {
      "application/vnd.jupyter.widget-view+json": {
       "model_id": "b79156ceb8db4460947f72ded675d553",
       "version_major": 2,
       "version_minor": 0
      },
      "text/plain": [
       "  0%|          | 0/10 [00:00<?, ?it/s]"
      ]
     },
     "metadata": {},
     "output_type": "display_data"
    },
    {
     "data": {
      "application/vnd.jupyter.widget-view+json": {
       "model_id": "596587d81fa14b21a53e06576811fe46",
       "version_major": 2,
       "version_minor": 0
      },
      "text/plain": [
       "  0%|          | 0/10 [00:00<?, ?it/s]"
      ]
     },
     "metadata": {},
     "output_type": "display_data"
    },
    {
     "data": {
      "application/vnd.jupyter.widget-view+json": {
       "model_id": "af6cb9e947a74496a6badb1e0e4735a8",
       "version_major": 2,
       "version_minor": 0
      },
      "text/plain": [
       "  0%|          | 0/10 [00:00<?, ?it/s]"
      ]
     },
     "metadata": {},
     "output_type": "display_data"
    },
    {
     "data": {
      "application/vnd.jupyter.widget-view+json": {
       "model_id": "6cb31655349f4d5c859cec9c5a2e39ee",
       "version_major": 2,
       "version_minor": 0
      },
      "text/plain": [
       "  0%|          | 0/10 [00:00<?, ?it/s]"
      ]
     },
     "metadata": {},
     "output_type": "display_data"
    }
   ],
   "source": [
    "from tqdm.notebook import tqdm_notebook\n",
    "lowerbound = -100\n",
    "upperbound = 100\n",
    "for k in range(10):\n",
    "    population = np.zeros((populationsize,dimention))\n",
    "    count = 0\n",
    "    for i in range(populationsize):\n",
    "        dummy = np.random.uniform(low=lowerbound,high=upperbound+1,size=dimention)\n",
    "        population[i:] = dummy\n",
    "    now = datetime.now()\n",
    "    for i in tqdm_notebook(range(round)):\n",
    "        generation = i\n",
    "        population_dummy = np.zeros((populationsize,dimention))\n",
    "        value = np.zeros(populationsize)\n",
    "        for j in range(populationsize):\n",
    "            value[j] = eveluate(myfunc,population[j])\n",
    "\n",
    "        fitness_max = max(value)\n",
    "        fitness_min = min(value)\n",
    "        fitness_mean = np.mean(value)\n",
    "        for j in range(populationsize):\n",
    "            vectorrand = np.random.permutation(populationsize)\n",
    "            fitness_target = value[j]\n",
    "            trial_vector = build_trial(population[vectorrand[0]],population[vectorrand[1]],population[vectorrand[2]],population[j],fitness_max=fitness_max,fitness_mean=fitness_mean,fitness_min=fitness_min,fitness_target=fitness_target,generation=i+1)\n",
    "            population_dummy[j] = selection(trial_vector=trial_vector,target_vector=population[j],fun=myfunc)\n",
    "            value[j] = eveluate(myfunc,population[j])\n",
    "\n",
    "\n",
    "        for j in range(populationsize):\n",
    "            population[j] = population_dummy[j]\n",
    "            value[j] = eveluate(myfunc,population[j])\n",
    "        now2 = datetime.now()\n",
    "        if i == 0:\n",
    "            minimized_value = min(value)\n",
    "            maximized_value = max(value)\n",
    "            minimized_value_round[i] = minimized_value\n",
    "            index = np.where(value == minimized_value_round[i])[0][0]\n",
    "            minimized_vector = population[index]\n",
    "            minuted = (now2-now).seconds\n",
    "            min_round = i\n",
    "            minimized_value_keep[i][0] = minimized_value\n",
    "            minimized_value_keep[i][1] = min_round\n",
    "            minimized_value_keep[i][2] = minuted\n",
    "            \n",
    "            #for analys solution\n",
    "            value_analysis[i][0] = maximized_value\n",
    "            value_analysis[i][1] = minimized_value\n",
    "            value_analysis[i][2] = np.mean(value)\n",
    "        else:\n",
    "            if maximized_value > max(value):\n",
    "                maximized_value = max(value)\n",
    "\n",
    "            if minimized_value > min(value):\n",
    "                #count = 0\n",
    "                minimized_value = min(value)\n",
    "                minimized_value_round[i] = minimized_value\n",
    "                index = np.where(value == minimized_value_round[i])[0][0]\n",
    "                minimized_vector = population[index]\n",
    "                minuted = (now2-now).seconds + ((now2-now).microseconds)*1E-6\n",
    "                min_round = i\n",
    "                minimized_value_keep[i][0] = minimized_value\n",
    "                minimized_value_keep[i][1] = min_round\n",
    "                minimized_value_keep[i][2] = minuted\n",
    "\n",
    "\n",
    "                value_analysis[i][0] = maximized_value\n",
    "                value_analysis[i][1] = minimized_value\n",
    "                value_analysis[i][2] = np.mean(value)\n",
    "\n",
    "            else:\n",
    "                #count = count+1;\n",
    "                minimized_value_round[i] = minimized_value\n",
    "                minimized_value_keep[i][0] = minimized_value\n",
    "                minimized_value_keep[i][1] = min_round\n",
    "                minimized_value_keep[i][2] = minuted\n",
    "\n",
    "                value_analysis[i][0] = maximized_value\n",
    "                value_analysis[i][1] = minimized_value\n",
    "                value_analysis[i][2] = np.mean(value)\n",
    "\n",
    "\n",
    "    now3 = datetime.now()\n",
    "    time_perround[k][0] = ((now3-now).seconds+((now3-now).microseconds)*1E-6)/round\n",
    "    #print('round1 ok')\n",
    "    file_path = 'C:/Users/patip/Documents/Python/Algorithm/raw_reault/'+functionname+'_result/DSIDE_'+functionname+'_'+str(dimention)+'_run_'+str(k+1)+'_population_'+str(populationsize)+'.csv'\n",
    "    with open(file_path,'w',encoding='UTF8',newline='') as f:\n",
    "        writer = csv.writer(f)\n",
    "        writer.writerow(['Solution','round','time'])\n",
    "        writer.writerows(minimized_value_keep)\n",
    "\n",
    "\n",
    "    file_path = 'C:/Users/patip/Documents/Python/Algorithm/analysis_result/'+functionname+'_result/DSIDE_'+functionname+'_analysis_'+str(dimention)+'_run_'+str(k+1)+'_population_'+str(populationsize)+'.csv'\n",
    "    with open(file_path,'w',encoding='UTF8',newline='') as f:\n",
    "        writer = csv.writer(f)\n",
    "        writer.writerow(['max','min','mean'])\n",
    "        writer.writerows(value_analysis)\n",
    "    #print('round: ',(k+1),' OK')\n",
    "#time_perround = np.transpose(time_perround)\n",
    "#time_perround[0][0]\n",
    "file_path = 'C:/Users/patip/Documents/Python/Algorithm/time/DSIDE_'+functionname+'_timeperround_'+str(dimention)+'_population_'+str(populationsize)+'.csv'\n",
    "with open(file_path,'w',encoding='UTF8',newline='') as f:\n",
    "        writer = csv.writer(f)\n",
    "        writer.writerow(['time_perround'])\n",
    "        writer.writerows(time_perround)\n",
    "\n",
    "\n",
    "\n",
    "\n",
    "    \n"
   ]
  },
  {
   "cell_type": "markdown",
   "metadata": {},
   "source": [
    "Analysis value"
   ]
  },
  {
   "cell_type": "code",
   "execution_count": 16,
   "metadata": {},
   "outputs": [
    {
     "name": "stdout",
     "output_type": "stream",
     "text": [
      "[29.14175271 27.81090425 25.23464862 30.         30.         30.\n",
      " 29.03631876 27.12309221 25.35039884 26.14788362]\n",
      "Minimized Solution average:  27.984499900653162\n",
      "Minimized Solution standart diviation:  1.8242194878779745\n",
      "Time find optimal solution:  0.04887286666666667  minuted\n",
      "Round find optimal solution:  8.7\n"
     ]
    }
   ],
   "source": [
    "import pandas as pd\n",
    "import csv\n",
    "\n",
    "row_data = 2000\n",
    "replace = 10\n",
    "\n",
    "solution = np.zeros((replace,row_data))\n",
    "solution_average = np.zeros((1,row_data))\n",
    "minsolution = np.zeros(replace)\n",
    "timecalculation = np.zeros(replace)\n",
    "roundstable = np.zeros(replace)\n",
    "\n",
    "for k in range(replace):\n",
    "    path = 'C:/Users/patip/Documents/Python/Algorithm/raw_reault/'+functionname+'_result/DSIDE_'+functionname+'_'+str(dimention)+'_run_'+str(k+1)+'_population_'+str(populationsize)+'.csv'\n",
    "    my_sol = pd.read_csv(path,nrows=row_data)\n",
    "    solution[k:] = my_sol['Solution']\n",
    "    solution[k:] = my_sol['Solution']\n",
    "    minsolution[k] = min(my_sol['Solution'])\n",
    "    roundstable[k] = max(my_sol['round'])\n",
    "    timecalculation[k] = max(my_sol['time'])\n",
    "\n",
    "for j in range(row_data):\n",
    "    for i in range(replace):\n",
    "        solution_average[0][j] = solution_average[0][j] + (solution[i][j]/replace)\n",
    "\n",
    "solution_average = np.transpose(solution_average)\n",
    "file_path = 'C:/Users/patip/Documents/Python/Algorithm/Graph/'+function_type+'/value/DSIDE_'+functionname+'_'+str(dimention)+'_population_'+str(populationsize)+'.csv'\n",
    "with open(file_path,'w',encoding='UTF8',newline='') as f:\n",
    "    writer = csv.writer(f)\n",
    "    writer.writerow(['Average'])\n",
    "    writer.writerows(solution_average)\n",
    "\n",
    "print(minsolution)\n",
    "\n",
    "print('Minimized Solution average: ',np.average(minsolution))\n",
    "print('Minimized Solution standart diviation: ',np.std(minsolution))\n",
    "print('Time find optimal solution: ',np.average(timecalculation)/60,' minuted')\n",
    "print('Round find optimal solution: ',np.average(roundstable))\n",
    "\n"
   ]
  },
  {
   "cell_type": "code",
   "execution_count": 17,
   "metadata": {},
   "outputs": [
    {
     "name": "stdout",
     "output_type": "stream",
     "text": [
      "C:/Users/patip/Documents/Python/Algorithm/analysis_result/Salomon_result/DSIDE_Salomon_analysis_30_run_1_population_500.csv\n",
      "C:/Users/patip/Documents/Python/Algorithm/analysis_result/Salomon_result/DSIDE_Salomon_analysis_30_run_2_population_500.csv\n",
      "C:/Users/patip/Documents/Python/Algorithm/analysis_result/Salomon_result/DSIDE_Salomon_analysis_30_run_3_population_500.csv\n",
      "C:/Users/patip/Documents/Python/Algorithm/analysis_result/Salomon_result/DSIDE_Salomon_analysis_30_run_4_population_500.csv\n",
      "C:/Users/patip/Documents/Python/Algorithm/analysis_result/Salomon_result/DSIDE_Salomon_analysis_30_run_5_population_500.csv\n",
      "C:/Users/patip/Documents/Python/Algorithm/analysis_result/Salomon_result/DSIDE_Salomon_analysis_30_run_6_population_500.csv\n",
      "C:/Users/patip/Documents/Python/Algorithm/analysis_result/Salomon_result/DSIDE_Salomon_analysis_30_run_7_population_500.csv\n",
      "C:/Users/patip/Documents/Python/Algorithm/analysis_result/Salomon_result/DSIDE_Salomon_analysis_30_run_8_population_500.csv\n",
      "C:/Users/patip/Documents/Python/Algorithm/analysis_result/Salomon_result/DSIDE_Salomon_analysis_30_run_9_population_500.csv\n",
      "C:/Users/patip/Documents/Python/Algorithm/analysis_result/Salomon_result/DSIDE_Salomon_analysis_30_run_10_population_500.csv\n"
     ]
    }
   ],
   "source": [
    "result_analysis_max = np.zeros((replace,row_data))\n",
    "result_analysis_min = np.zeros((replace,row_data))\n",
    "result_analysis_mean = np.zeros((replace,row_data))\n",
    "\n",
    "data_average = np.zeros((row_data,3))\n",
    "for i in range(replace):\n",
    "    path = 'C:/Users/patip/Documents/Python/Algorithm/analysis_result/'+functionname+'_result/DSIDE_'+functionname+'_analysis_'+str(dimention)+'_run_'+str(i+1)+'_population_'+str(populationsize)+'.csv'\n",
    "    print(path)\n",
    "    my_sol = pd.read_csv(path,nrows=row_data)\n",
    "    result_analysis_max[i:] = my_sol['max']\n",
    "    result_analysis_min[i:] = my_sol['min']\n",
    "    result_analysis_mean[i:] = my_sol['mean']\n",
    "\n",
    "for j in range(row_data):\n",
    "    for i in range(replace):\n",
    "        data_average[j][0] =data_average[j][0] + (result_analysis_max[i][j]/10)\n",
    "        data_average[j][1] =data_average[j][1] + (result_analysis_min[i][j]/10)\n",
    "        data_average[j][2] =data_average[j][2] + (result_analysis_mean[i][j]/10)\n",
    "\n",
    "\n",
    "\n",
    "\n",
    "file_path = 'C:/Users/patip/Documents/Python/Algorithm/Graph/'+function_type+'/analysis/DSIDE_'+functionname+'_analysis_'+str(dimention)+'_population_'+str(populationsize)+'.csv'\n",
    "with open(file_path,'w',encoding='UTF8',newline='') as f:\n",
    "    writer = csv.writer(f)\n",
    "    writer.writerow(['max','min','mean'])\n",
    "    writer.writerows(data_average)\n",
    "\n"
   ]
  }
 ],
 "metadata": {
  "interpreter": {
   "hash": "511bed0909801833f57ed93f62f457a518e5b7613a2d7f473334c99dfb6973fe"
  },
  "kernelspec": {
   "display_name": "Python 3.10.1 64-bit",
   "language": "python",
   "name": "python3"
  },
  "language_info": {
   "codemirror_mode": {
    "name": "ipython",
    "version": 3
   },
   "file_extension": ".py",
   "mimetype": "text/x-python",
   "name": "python",
   "nbconvert_exporter": "python",
   "pygments_lexer": "ipython3",
   "version": "3.10.2"
  },
  "orig_nbformat": 4
 },
 "nbformat": 4,
 "nbformat_minor": 2
}
