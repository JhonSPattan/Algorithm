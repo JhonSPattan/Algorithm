{
 "cells": [
  {
   "cell_type": "code",
   "execution_count": 9,
   "metadata": {},
   "outputs": [],
   "source": [
    "import numpy as np\n",
    "import csv\n",
    "from datetime import datetime\n",
    "import matplotlib.pyplot as plt\n",
    "import sys\n",
    "sys.path.insert(0,'C:/Users/patip/Documents/Python/Algorithm')\n",
    "from Benchmark.functionbenchmark import Sphere as myfunc"
   ]
  },
  {
   "cell_type": "code",
   "execution_count": 10,
   "metadata": {},
   "outputs": [],
   "source": [
    "dimention = 30\n",
    "populationsize = 100\n",
    "lowerbound = -100\n",
    "upperblound = 99\n",
    "scale_factor = 0.01\n",
    "round = dimention*1000\n",
    "cr_rate = 0.8\n",
    "minimized_value = 0\n",
    "minimized_value_round = np.zeros(round)\n",
    "minimized_value_keep = np.zeros((round,3))\n",
    "minuted = 0.0\n",
    "min_round = 0\n",
    "minimized_vector = np.zeros(dimention)\n",
    "value = np.zeros(populationsize)\n",
    "population= np.zeros((populationsize,dimention))\n",
    "for i in range(populationsize):\n",
    "    dummy = np.random.uniform(low=lowerbound,high=upperblound+1,size=dimention)\n",
    "    population[i:] = dummy\n",
    "\n",
    "\n"
   ]
  },
  {
   "cell_type": "code",
   "execution_count": 11,
   "metadata": {},
   "outputs": [],
   "source": [
    "def build_trial(r_vector1:np.array,r_vector2:np.array,r_vector3:np.array,target:np.array)->np.array:\n",
    "    dummy_vector = np.random.uniform(low=0,high=1,size=dimention)\n",
    "    mutant_vector = r_vector1+scale_factor*(r_vector2-r_vector3)\n",
    "    trial = np.zeros(dimention)\n",
    "    for i in range(dimention):\n",
    "        if dummy_vector[i] > cr_rate :\n",
    "            trial[i] = target[i]\n",
    "        else:\n",
    "            trial[i] = mutant_vector[i]\n",
    "    return trial\n",
    "\n",
    "def eveluate(fun,arg:np.array)->float:\n",
    "    return fun(arg)\n",
    "def selection(trial_vector:np.array,target_vector:np.array,fun)->np.array:\n",
    "    trial_value = eveluate(fun,trial_vector)\n",
    "    target_value = eveluate(fun,target_vector)\n",
    "    \"\"\"  print(\"Value\")\n",
    "    print(trial_value)\n",
    "    print(target_value) \"\"\"\n",
    "    if trial_value <= target_value:\n",
    "        \"\"\"  print(\"Select new vector\")\n",
    "        print(trial_value) \"\"\"\n",
    "        return trial_vector\n",
    "    else:\n",
    "        \"\"\"  print(\"Select original vector\")\n",
    "        print(target_value) \"\"\"\n",
    "        return target_vector"
   ]
  },
  {
   "cell_type": "code",
   "execution_count": 12,
   "metadata": {},
   "outputs": [
    {
     "name": "stdout",
     "output_type": "stream",
     "text": [
      "round:  1  OK\n",
      "round:  2  OK\n"
     ]
    },
    {
     "ename": "KeyboardInterrupt",
     "evalue": "",
     "output_type": "error",
     "traceback": [
      "\u001b[1;31m---------------------------------------------------------------------------\u001b[0m",
      "\u001b[1;31mKeyboardInterrupt\u001b[0m                         Traceback (most recent call last)",
      "\u001b[1;32mc:\\Users\\patip\\Documents\\Python\\Algorithm\\DE\\DE_orginal.ipynb Cell 4'\u001b[0m in \u001b[0;36m<cell line: 1>\u001b[1;34m()\u001b[0m\n\u001b[0;32m     <a href='vscode-notebook-cell:/c%3A/Users/patip/Documents/Python/Algorithm/DE/DE_orginal.ipynb#ch0000003?line=14'>15</a>\u001b[0m     \u001b[39m\"\"\"  print(population[j])\u001b[39;00m\n\u001b[0;32m     <a href='vscode-notebook-cell:/c%3A/Users/patip/Documents/Python/Algorithm/DE/DE_orginal.ipynb#ch0000003?line=15'>16</a>\u001b[0m \u001b[39m    print(\"\\n\")\u001b[39;00m\n\u001b[0;32m     <a href='vscode-notebook-cell:/c%3A/Users/patip/Documents/Python/Algorithm/DE/DE_orginal.ipynb#ch0000003?line=16'>17</a>\u001b[0m \u001b[39m    print(trial_vector) \"\"\"\u001b[39;00m\n\u001b[0;32m     <a href='vscode-notebook-cell:/c%3A/Users/patip/Documents/Python/Algorithm/DE/DE_orginal.ipynb#ch0000003?line=17'>18</a>\u001b[0m     population[j] \u001b[39m=\u001b[39m selection(trial_vector\u001b[39m=\u001b[39mtrial_vector,target_vector\u001b[39m=\u001b[39mpopulation[j],fun\u001b[39m=\u001b[39mmyfunc)\n\u001b[1;32m---> <a href='vscode-notebook-cell:/c%3A/Users/patip/Documents/Python/Algorithm/DE/DE_orginal.ipynb#ch0000003?line=18'>19</a>\u001b[0m     value[j] \u001b[39m=\u001b[39m eveluate(myfunc,population[j])\n\u001b[0;32m     <a href='vscode-notebook-cell:/c%3A/Users/patip/Documents/Python/Algorithm/DE/DE_orginal.ipynb#ch0000003?line=19'>20</a>\u001b[0m     \u001b[39m\"\"\"  print(\"\\n\") \"\"\"\u001b[39;00m\n\u001b[0;32m     <a href='vscode-notebook-cell:/c%3A/Users/patip/Documents/Python/Algorithm/DE/DE_orginal.ipynb#ch0000003?line=21'>22</a>\u001b[0m now2 \u001b[39m=\u001b[39m datetime\u001b[39m.\u001b[39mnow()\n",
      "\u001b[1;32mc:\\Users\\patip\\Documents\\Python\\Algorithm\\DE\\DE_orginal.ipynb Cell 3'\u001b[0m in \u001b[0;36meveluate\u001b[1;34m(fun, arg)\u001b[0m\n\u001b[0;32m      <a href='vscode-notebook-cell:/c%3A/Users/patip/Documents/Python/Algorithm/DE/DE_orginal.ipynb#ch0000002?line=8'>9</a>\u001b[0m             trial[i] \u001b[39m=\u001b[39m mutant_vector[i]\n\u001b[0;32m     <a href='vscode-notebook-cell:/c%3A/Users/patip/Documents/Python/Algorithm/DE/DE_orginal.ipynb#ch0000002?line=9'>10</a>\u001b[0m     \u001b[39mreturn\u001b[39;00m trial\n\u001b[1;32m---> <a href='vscode-notebook-cell:/c%3A/Users/patip/Documents/Python/Algorithm/DE/DE_orginal.ipynb#ch0000002?line=11'>12</a>\u001b[0m \u001b[39mdef\u001b[39;00m \u001b[39meveluate\u001b[39m(fun,arg:np\u001b[39m.\u001b[39marray)\u001b[39m-\u001b[39m\u001b[39m>\u001b[39m\u001b[39mfloat\u001b[39m:\n\u001b[0;32m     <a href='vscode-notebook-cell:/c%3A/Users/patip/Documents/Python/Algorithm/DE/DE_orginal.ipynb#ch0000002?line=12'>13</a>\u001b[0m     \u001b[39mreturn\u001b[39;00m fun(arg)\n\u001b[0;32m     <a href='vscode-notebook-cell:/c%3A/Users/patip/Documents/Python/Algorithm/DE/DE_orginal.ipynb#ch0000002?line=13'>14</a>\u001b[0m \u001b[39mdef\u001b[39;00m \u001b[39mselection\u001b[39m(trial_vector:np\u001b[39m.\u001b[39marray,target_vector:np\u001b[39m.\u001b[39marray,fun)\u001b[39m-\u001b[39m\u001b[39m>\u001b[39mnp\u001b[39m.\u001b[39marray:\n",
      "\u001b[1;31mKeyboardInterrupt\u001b[0m: "
     ]
    }
   ],
   "source": [
    "\n",
    "for k in range(10):\n",
    "    population= np.zeros((populationsize,dimention))\n",
    "    for i in range(populationsize):\n",
    "        dummy = np.random.uniform(low=lowerbound,high=upperblound+1,size=dimention)\n",
    "        population[i:] = dummy\n",
    "\n",
    "    now = datetime.now()\n",
    "    for i in range(round):\n",
    "        value = np.zeros(populationsize)\n",
    "        for j in range(populationsize):\n",
    "            vectorrand = np.random.permutation(populationsize)\n",
    "            trial_vector = build_trial(population[vectorrand[0]],population[vectorrand[1]],population[vectorrand[2]],population[j])\n",
    "            \"\"\"  print(\"Trial vector: \",trial_vector,\" value: \",eveluate(myfunc,trial_vector))\n",
    "            print(\"Target vector: \",population[j],\" value: \",eveluate(myfunc,population[j])) \"\"\"\n",
    "            \"\"\"  print(population[j])\n",
    "            print(\"\\n\")\n",
    "            print(trial_vector) \"\"\"\n",
    "            population[j] = selection(trial_vector=trial_vector,target_vector=population[j],fun=myfunc)\n",
    "            value[j] = eveluate(myfunc,population[j])\n",
    "            \"\"\"  print(\"\\n\") \"\"\"\n",
    "        \n",
    "        now2 = datetime.now()\n",
    "        if i == 0:\n",
    "            minimized_value = min(value)\n",
    "            minimized_value_round[i] = minimized_value\n",
    "            index = np.where(value == minimized_value_round[i])[0][0]\n",
    "            minimized_vector = population[index]\n",
    "\n",
    "            min_round = i\n",
    "            minuted = (now2-now).seconds\n",
    "            minimized_value_keep[i][0] = minimized_value\n",
    "            minimized_value_keep[i][1] = min_round\n",
    "            minimized_value_keep[i][2] = minuted\n",
    "            \"\"\" print(minimized_value) \"\"\"\n",
    "        else:\n",
    "            if minimized_value > min(value):\n",
    "                minimized_value = min(value)\n",
    "                minimized_value_round[i] = minimized_value\n",
    "                index = np.where(value == minimized_value_round[i])[0][0]\n",
    "                minimized_vector = population[index]\n",
    "                minuted = (now2-now).seconds\n",
    "                min_round = i\n",
    "                minimized_value_keep[i][0] = minimized_value\n",
    "                minimized_value_keep[i][1] = min_round\n",
    "                minimized_value_keep[i][2] = minuted\n",
    "            else:\n",
    "                minimized_value_round[i] = minimized_value\n",
    "                minimized_value_keep[i][0] = minimized_value\n",
    "                minimized_value_keep[i][1] = min_round\n",
    "                minimized_value_keep[i][2] = minuted\n",
    "\n",
    "            \"\"\" print(minimized_value) \"\"\"\n",
    "    file_path = 'C:/Users/patip/Documents/Python/Algorithm/raw_reault/Sphere_result/DE_Sphere_'+str(dimention)+'_run_'+str(k+1)+'.csv'\n",
    "    with open(file_path,'w',encoding='UTF8',newline='') as f:\n",
    "        writer = csv.writer(f)\n",
    "        writer.writerow(['Solution','round','time'])\n",
    "        writer.writerows(minimized_value_keep)\n",
    "    \n",
    "    print('round: ',(k+1),' OK')\n",
    "\n",
    "    \n"
   ]
  },
  {
   "cell_type": "code",
   "execution_count": null,
   "metadata": {},
   "outputs": [
    {
     "data": {
      "text/plain": [
       "\" with open('DE_Salomon_30_run_10.csv','w',encoding='UTF8',newline='') as f:\\n    writer = csv.writer(f)\\n    writer.writerow(['Solution','round','time'])\\n    writer.writerows(minimized_value_keep) \""
      ]
     },
     "execution_count": 2,
     "metadata": {},
     "output_type": "execute_result"
    }
   ],
   "source": [
    "\n",
    "\"\"\" with open('DE_Salomon_30_run_10.csv','w',encoding='UTF8',newline='') as f:\n",
    "    writer = csv.writer(f)\n",
    "    writer.writerow(['Solution','round','time'])\n",
    "    writer.writerows(minimized_value_keep) \"\"\"\n"
   ]
  }
 ],
 "metadata": {
  "interpreter": {
   "hash": "511bed0909801833f57ed93f62f457a518e5b7613a2d7f473334c99dfb6973fe"
  },
  "kernelspec": {
   "display_name": "Python 3.10.1 64-bit",
   "language": "python",
   "name": "python3"
  },
  "language_info": {
   "codemirror_mode": {
    "name": "ipython",
    "version": 3
   },
   "file_extension": ".py",
   "mimetype": "text/x-python",
   "name": "python",
   "nbconvert_exporter": "python",
   "pygments_lexer": "ipython3",
   "version": "3.10.2"
  },
  "orig_nbformat": 4
 },
 "nbformat": 4,
 "nbformat_minor": 2
}
