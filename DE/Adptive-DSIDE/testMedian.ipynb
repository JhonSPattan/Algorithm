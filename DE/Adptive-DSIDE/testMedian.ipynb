{
 "cells": [
  {
   "cell_type": "code",
   "execution_count": 18,
   "metadata": {},
   "outputs": [
    {
     "name": "stdout",
     "output_type": "stream",
     "text": [
      "[8.06482893 7.81915235 8.18697147 9.81339294 7.98692248 7.68208368]\n"
     ]
    }
   ],
   "source": [
    "import numpy as np\n",
    "x = np.random.uniform(5,10,6)\n",
    "print(x)"
   ]
  },
  {
   "cell_type": "code",
   "execution_count": 6,
   "metadata": {},
   "outputs": [
    {
     "name": "stdout",
     "output_type": "stream",
     "text": [
      "x =  0 f( 0 ) =  10.0\n",
      "x =  0.5 f( 0.5 ) = Can't divide by zero\n",
      "x =  1.0 f( 1.0 ) =  11.0\n",
      "x =  1.5 f( 1.5 ) =  11.125\n",
      "x =  2.0 f( 2.0 ) =  11.333333333333334\n",
      "x =  2.5 f( 2.5 ) =  11.5625\n",
      "x =  3.0 f( 3.0 ) =  11.8\n",
      "x =  3.5 f( 3.5 ) =  12.041666666666666\n",
      "x =  4.0 f( 4.0 ) =  12.285714285714285\n",
      "x =  4.5 f( 4.5 ) =  12.53125\n"
     ]
    }
   ],
   "source": [
    "import math\n",
    "i = 0\n",
    "while(i <= 4.5 ):\n",
    "    print(\"x = \",i,end=' ')\n",
    "    if(i == 0.5):\n",
    "        print(\"f(\",i,\") = Can't divide by zero\")\n",
    "        i = i+0.5\n",
    "        continue\n",
    "    fx = (math.pow(i,2)/(2*i-1))+10\n",
    "    print(\"f(\",i,\") = \",fx)\n",
    "    i = i+0.5\n",
    "\n",
    "\n"
   ]
  }
 ],
 "metadata": {
  "kernelspec": {
   "display_name": "Python 3.10.5 64-bit",
   "language": "python",
   "name": "python3"
  },
  "language_info": {
   "codemirror_mode": {
    "name": "ipython",
    "version": 3
   },
   "file_extension": ".py",
   "mimetype": "text/x-python",
   "name": "python",
   "nbconvert_exporter": "python",
   "pygments_lexer": "ipython3",
   "version": "3.10.5"
  },
  "orig_nbformat": 4,
  "vscode": {
   "interpreter": {
    "hash": "43dca14d2b4a044ba4bacc4278e553dbc37884e4099f61bd3f343eff0761f0c1"
   }
  }
 },
 "nbformat": 4,
 "nbformat_minor": 2
}
